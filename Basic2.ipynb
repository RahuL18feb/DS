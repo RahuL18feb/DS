{
  "nbformat": 4,
  "nbformat_minor": 0,
  "metadata": {
    "colab": {
      "provenance": []
    },
    "kernelspec": {
      "name": "python3",
      "display_name": "Python 3"
    },
    "language_info": {
      "name": "python"
    }
  },
  "cells": [
    {
      "cell_type": "markdown",
      "source": [
        "#tuple\n",
        " - ordered collection\n",
        "  -immutable\n",
        "  -tuple always in parenthesis"
      ],
      "metadata": {
        "id": "xTZT2fTJ5_CR"
      }
    },
    {
      "cell_type": "code",
      "execution_count": null,
      "metadata": {
        "id": "b1iY2Ih859p-"
      },
      "outputs": [],
      "source": [
        "my_tuple = (10,20,30)"
      ]
    },
    {
      "cell_type": "code",
      "source": [
        "type(my_tuple)"
      ],
      "metadata": {
        "id": "uP6gTywQ6XgE"
      },
      "execution_count": null,
      "outputs": []
    },
    {
      "cell_type": "code",
      "source": [
        "t2 = (10,20,30,20,10,20,30,30,20,20,20,10)"
      ],
      "metadata": {
        "id": "btxxCubb6beV"
      },
      "execution_count": null,
      "outputs": []
    },
    {
      "cell_type": "code",
      "source": [
        "t2.count(20)"
      ],
      "metadata": {
        "id": "uX3l-3aC6jSZ"
      },
      "execution_count": null,
      "outputs": []
    },
    {
      "cell_type": "code",
      "source": [
        "t2.index(30) # its shows index position first occurance"
      ],
      "metadata": {
        "id": "ocgv5tz66lfC"
      },
      "execution_count": null,
      "outputs": []
    },
    {
      "cell_type": "code",
      "source": [
        "#use cases - gps coordinates - long, latitude\n",
        "##enrollment no"
      ],
      "metadata": {
        "id": "HdVSY_Y76pOD"
      },
      "execution_count": null,
      "outputs": []
    },
    {
      "cell_type": "markdown",
      "source": [
        "# set {} -\n",
        "- unordered - means you cannot access item by index\n",
        "- mutable - can be add, remove or change\n",
        "- duplicate values not allow"
      ],
      "metadata": {
        "id": "U4ZZ94BI7fuT"
      }
    },
    {
      "cell_type": "code",
      "source": [
        "s1 = {10,20,30,10,20,30,10,20,30,40,40,50,30}"
      ],
      "metadata": {
        "id": "nKSNGfPp7AjP"
      },
      "execution_count": null,
      "outputs": []
    },
    {
      "cell_type": "code",
      "source": [
        "s1"
      ],
      "metadata": {
        "id": "dibZK8f97aDj"
      },
      "execution_count": null,
      "outputs": []
    },
    {
      "cell_type": "code",
      "source": [
        "s1.add(70)"
      ],
      "metadata": {
        "id": "tIkvj-Fd7qO8"
      },
      "execution_count": null,
      "outputs": []
    },
    {
      "cell_type": "code",
      "source": [
        "s1"
      ],
      "metadata": {
        "id": "GEE0w9Pp754_"
      },
      "execution_count": null,
      "outputs": []
    },
    {
      "cell_type": "code",
      "source": [
        "s1.remove(40)"
      ],
      "metadata": {
        "id": "tpAV77I076fr"
      },
      "execution_count": null,
      "outputs": []
    },
    {
      "cell_type": "code",
      "source": [
        "s1"
      ],
      "metadata": {
        "id": "T-Myx1DI7_az"
      },
      "execution_count": null,
      "outputs": []
    },
    {
      "cell_type": "code",
      "source": [
        "s1.remove(80)"
      ],
      "metadata": {
        "id": "t1sAYGRO8ICN"
      },
      "execution_count": null,
      "outputs": []
    },
    {
      "cell_type": "code",
      "source": [
        "s1.discard(80)  #if 80 available in set than it will remove otherwise not, we dont get any error"
      ],
      "metadata": {
        "id": "i88Cqxc-8KYp"
      },
      "execution_count": null,
      "outputs": []
    },
    {
      "cell_type": "code",
      "source": [
        "s1"
      ],
      "metadata": {
        "id": "jFyrE2Vb8fbH"
      },
      "execution_count": null,
      "outputs": []
    },
    {
      "cell_type": "markdown",
      "source": [
        "# string in python"
      ],
      "metadata": {
        "id": "cPF7qPOx8hJd"
      }
    },
    {
      "cell_type": "code",
      "source": [
        "name = \"rahul , tushar sir\""
      ],
      "metadata": {
        "id": "Mfzx89Vq8f4H"
      },
      "execution_count": null,
      "outputs": []
    },
    {
      "cell_type": "code",
      "source": [
        "name"
      ],
      "metadata": {
        "id": "VimuUD0E8rcs"
      },
      "execution_count": null,
      "outputs": []
    },
    {
      "cell_type": "code",
      "source": [
        "name.upper()"
      ],
      "metadata": {
        "id": "KP9vP5Qr8sWo"
      },
      "execution_count": null,
      "outputs": []
    },
    {
      "cell_type": "code",
      "source": [
        "name.lower()"
      ],
      "metadata": {
        "id": "UgMNxgMl80XJ"
      },
      "execution_count": null,
      "outputs": []
    },
    {
      "cell_type": "code",
      "source": [
        "name.capitalize()"
      ],
      "metadata": {
        "id": "aRM64XkI82QK"
      },
      "execution_count": null,
      "outputs": []
    },
    {
      "cell_type": "code",
      "source": [
        "name.title()"
      ],
      "metadata": {
        "id": "MgehUy-E89fy"
      },
      "execution_count": null,
      "outputs": []
    },
    {
      "cell_type": "code",
      "source": [
        "\"hello\".find('l')"
      ],
      "metadata": {
        "id": "tkn31st79ATa"
      },
      "execution_count": null,
      "outputs": []
    },
    {
      "cell_type": "code",
      "source": [
        "name1 = \"   Rahul   \""
      ],
      "metadata": {
        "id": "AsFiQuKX9MqJ"
      },
      "execution_count": null,
      "outputs": []
    },
    {
      "cell_type": "code",
      "source": [
        "name1.strip()"
      ],
      "metadata": {
        "id": "sTYRWOxo9i8V"
      },
      "execution_count": null,
      "outputs": []
    },
    {
      "cell_type": "code",
      "source": [
        "\"a, b, c, d\".split(\",\")"
      ],
      "metadata": {
        "id": "5j8ryOM69k9M"
      },
      "execution_count": null,
      "outputs": []
    },
    {
      "cell_type": "markdown",
      "source": [
        "# Dictionary\n",
        "- unordered\n",
        "- mutable\n",
        "- collection of keys : values\n",
        "- {keys:values}"
      ],
      "metadata": {
        "id": "I1kXGFc895kC"
      }
    },
    {
      "cell_type": "code",
      "source": [
        "my_dict = {\n",
        "    \"name\" : \"Rahul\",\n",
        "    \"age\" : 33,\n",
        "    \"city\" : \"wardha\"\n",
        "}"
      ],
      "metadata": {
        "id": "myEEllDc9yo8"
      },
      "execution_count": null,
      "outputs": []
    },
    {
      "cell_type": "code",
      "source": [
        "my_dict"
      ],
      "metadata": {
        "id": "ZvB-Jkay-meo"
      },
      "execution_count": null,
      "outputs": []
    },
    {
      "cell_type": "code",
      "source": [
        "my_dict[\"name\"]"
      ],
      "metadata": {
        "id": "grvm4XTU-qnX"
      },
      "execution_count": null,
      "outputs": []
    },
    {
      "cell_type": "code",
      "source": [
        "# paranthesis () - .method , function, tuple\n",
        "# square braces [] - list , access the element , indexing\n",
        "# { } curly braces - set, dict"
      ],
      "metadata": {
        "id": "kzShUdNV-15e"
      },
      "execution_count": null,
      "outputs": []
    },
    {
      "cell_type": "code",
      "source": [
        "d = {\"a\":1 , \"b\" : 2}"
      ],
      "metadata": {
        "id": "5QFoprfn_cx1"
      },
      "execution_count": null,
      "outputs": []
    },
    {
      "cell_type": "code",
      "source": [
        "d[\"a\"]"
      ],
      "metadata": {
        "id": "wTxIMzd0_rim"
      },
      "execution_count": null,
      "outputs": []
    },
    {
      "cell_type": "code",
      "source": [
        "d.get(\"a\")"
      ],
      "metadata": {
        "id": "nKRs7J7T_tMb"
      },
      "execution_count": null,
      "outputs": []
    },
    {
      "cell_type": "code",
      "source": [
        "# FOR LOOP"
      ],
      "metadata": {
        "id": "26YersPS_vIl"
      },
      "execution_count": null,
      "outputs": []
    },
    {
      "cell_type": "code",
      "source": [
        "fruits = [\"apple\" , \"banana\" , \"cherry\"]"
      ],
      "metadata": {
        "id": "OdQu8SIn_219"
      },
      "execution_count": null,
      "outputs": []
    },
    {
      "cell_type": "code",
      "source": [
        "for i in fruits:\n",
        "  print(\"I like\", i)"
      ],
      "metadata": {
        "id": "SD0jn0-ZALRv"
      },
      "execution_count": null,
      "outputs": []
    },
    {
      "cell_type": "code",
      "source": [
        "word = \"Python\""
      ],
      "metadata": {
        "id": "M_eNVJkJAfre"
      },
      "execution_count": null,
      "outputs": []
    },
    {
      "cell_type": "code",
      "source": [
        "for i in word:\n",
        "  print(i)"
      ],
      "metadata": {
        "id": "10NpLzTKBL2e"
      },
      "execution_count": null,
      "outputs": []
    },
    {
      "cell_type": "code",
      "source": [
        "for i in range(11):\n",
        "  print(i)"
      ],
      "metadata": {
        "id": "589SVUyNBOvG"
      },
      "execution_count": null,
      "outputs": []
    },
    {
      "cell_type": "code",
      "source": [
        "for i in range(2,11,2):\n",
        "  print(i)"
      ],
      "metadata": {
        "id": "S9PI1t8FBt3L"
      },
      "execution_count": null,
      "outputs": []
    },
    {
      "cell_type": "code",
      "source": [
        "# addition of 1 to 100"
      ],
      "metadata": {
        "id": "ncjstsYMCFWC"
      },
      "execution_count": null,
      "outputs": []
    },
    {
      "cell_type": "code",
      "source": [
        "total = 0\n",
        "for i in range(1,101):\n",
        "  total = total + i\n",
        "  print(total)"
      ],
      "metadata": {
        "id": "acPdgNn2CeFW"
      },
      "execution_count": null,
      "outputs": []
    },
    {
      "cell_type": "code",
      "source": [
        "total = 0\n",
        "for i in range(1,101):\n",
        "  total = total + i\n",
        "\n",
        "print(total)"
      ],
      "metadata": {
        "id": "Eyln4p-BCzSz"
      },
      "execution_count": null,
      "outputs": []
    },
    {
      "cell_type": "markdown",
      "source": [
        "# nested for loop - loop into loop"
      ],
      "metadata": {
        "id": "ij4zO70JDfI-"
      }
    },
    {
      "cell_type": "code",
      "source": [
        "colors = [\"red\" , \"green\"]\n",
        "size = [\"s\", \"m\", \"l\"]"
      ],
      "metadata": {
        "id": "xboUahF0DaiG"
      },
      "execution_count": null,
      "outputs": []
    },
    {
      "cell_type": "code",
      "source": [
        "for i in colors:\n",
        "  for j in size:\n",
        "\n",
        "    print(i , j)"
      ],
      "metadata": {
        "id": "slXiKO7UDyU3"
      },
      "execution_count": null,
      "outputs": []
    },
    {
      "cell_type": "code",
      "source": [
        "for i in range(2,4):\n",
        "  print(\"Table for\", i)\n",
        "  for j in range(1,11):\n",
        "    print(f\"{i}*{j} = {i*j}\")"
      ],
      "metadata": {
        "id": "6hFUr866EK3X"
      },
      "execution_count": null,
      "outputs": []
    },
    {
      "cell_type": "markdown",
      "source": [
        "# while loop"
      ],
      "metadata": {
        "id": "yKz8A-bWD4x6"
      }
    },
    {
      "cell_type": "code",
      "source": [
        "i=1\n",
        "while i<=5:\n",
        "  print(i)\n",
        "  i = i+1"
      ],
      "metadata": {
        "id": "YsvnZ-kwFEYl"
      },
      "execution_count": null,
      "outputs": []
    },
    {
      "cell_type": "code",
      "source": [
        "for i in range(1,6):\n",
        "  print(i)"
      ],
      "metadata": {
        "id": "5NDM7lPpErMr"
      },
      "execution_count": null,
      "outputs": []
    },
    {
      "cell_type": "code",
      "source": [
        "i=1\n",
        "total=0\n",
        "while i <= 100:\n",
        "  total = total+i\n",
        "  i = i+1\n",
        "\n",
        "print(total)"
      ],
      "metadata": {
        "id": "IjB9LgU4E16b"
      },
      "execution_count": null,
      "outputs": []
    },
    {
      "cell_type": "code",
      "source": [
        "# even no. between 1 to 10\n",
        "\n",
        "i=2\n",
        "while i<=10:\n",
        "  print(i)\n",
        "  i=i+2"
      ],
      "metadata": {
        "id": "uA5nEPEBFS3v"
      },
      "execution_count": null,
      "outputs": []
    },
    {
      "cell_type": "code",
      "source": [
        "password = \"\"\n",
        "while password != \"968574\":\n",
        "  password = input(\"enter password    :-  \")\n",
        "\n",
        "print(\"Access granted...!\")"
      ],
      "metadata": {
        "colab": {
          "base_uri": "https://localhost:8080/"
        },
        "id": "QFVn5Xt_GIZd",
        "outputId": "4953ea28-e3b0-4bac-cf18-42a8f49a40fb"
      },
      "execution_count": 15,
      "outputs": [
        {
          "output_type": "stream",
          "name": "stdout",
          "text": [
            "enter password    :-  561651565\n",
            "enter password    :-  968574\n",
            "Access granted...!\n"
          ]
        }
      ]
    },
    {
      "cell_type": "markdown",
      "source": [
        "#conditional statement"
      ],
      "metadata": {
        "id": "3IfFnLblHRdC"
      }
    },
    {
      "cell_type": "code",
      "source": [
        "# if - else - elif"
      ],
      "metadata": {
        "id": "fz2dIL4MGpV0"
      },
      "execution_count": 12,
      "outputs": []
    },
    {
      "cell_type": "code",
      "source": [
        "#check the number is positive or negative"
      ],
      "metadata": {
        "id": "zsD_2aelHZX0"
      },
      "execution_count": 13,
      "outputs": []
    },
    {
      "cell_type": "code",
      "source": [
        "num = int(input(\"enter the number...:-\"))\n",
        "\n",
        "if num>0:\n",
        "  print(\"positive\")\n",
        "\n",
        "else:\n",
        "  print(\"negative\")"
      ],
      "metadata": {
        "colab": {
          "base_uri": "https://localhost:8080/"
        },
        "id": "PWnBoCykHga4",
        "outputId": "f96f4270-cd70-413d-d829-c0c05e8a1fef"
      },
      "execution_count": 14,
      "outputs": [
        {
          "output_type": "stream",
          "name": "stdout",
          "text": [
            "enter the numbe...:-54\n",
            "positive\n"
          ]
        }
      ]
    },
    {
      "cell_type": "code",
      "source": [
        "text =\"hello\"\n",
        "if \"l\" in text:\n",
        "  print(\"letter found\")\n",
        "\n",
        "else:\n",
        "  print(\"not found\")"
      ],
      "metadata": {
        "colab": {
          "base_uri": "https://localhost:8080/"
        },
        "id": "rlNOLSlZH6w4",
        "outputId": "3591808a-50d9-41b1-c05a-8e324a33049c"
      },
      "execution_count": 20,
      "outputs": [
        {
          "output_type": "stream",
          "name": "stdout",
          "text": [
            "letter found\n"
          ]
        }
      ]
    },
    {
      "cell_type": "code",
      "source": [
        "age = int(input(\"enter the age:-  \"))\n",
        "if age >= 18:\n",
        "  print(\"you are eligible for election\")\n",
        "\n",
        "else:\n",
        "  print(\"not eligible\")"
      ],
      "metadata": {
        "colab": {
          "base_uri": "https://localhost:8080/"
        },
        "id": "dT86KFVKIvI5",
        "outputId": "0926c459-49fa-4353-8544-3b3377719563"
      },
      "execution_count": 23,
      "outputs": [
        {
          "output_type": "stream",
          "name": "stdout",
          "text": [
            "enter the age:-  18\n",
            "you are eligible for election\n"
          ]
        }
      ]
    },
    {
      "cell_type": "code",
      "source": [
        "num = int(input(\"enter the num:-  \"))\n",
        "if num % 2 == 0:\n",
        "  print(\"even no\")\n",
        "\n",
        "else:\n",
        "  print(\"odd num\")"
      ],
      "metadata": {
        "colab": {
          "base_uri": "https://localhost:8080/"
        },
        "id": "AXPddUBKI7RR",
        "outputId": "384367d7-b25a-4a1c-bfa8-98905246b172"
      },
      "execution_count": 25,
      "outputs": [
        {
          "output_type": "stream",
          "name": "stdout",
          "text": [
            "enter the num:-  19\n",
            "odd num\n"
          ]
        }
      ]
    },
    {
      "cell_type": "code",
      "source": [
        "marks = int(input(\"enter the marks:- \"))\n",
        "if marks >= 90:\n",
        "  print(\"Grade A\")\n",
        "\n",
        "elif marks >= 70:\n",
        "  print(\"Grade B\")\n",
        "\n",
        "elif marks >= 45:\n",
        "  print(\"Grade C\")\n",
        "\n",
        "else:\n",
        "  print(\"Fail\")"
      ],
      "metadata": {
        "colab": {
          "base_uri": "https://localhost:8080/"
        },
        "id": "KU4gNZBWJ1zE",
        "outputId": "0eb5c766-34f7-44ce-8c94-3c88b08a9b2e"
      },
      "execution_count": 26,
      "outputs": [
        {
          "output_type": "stream",
          "name": "stdout",
          "text": [
            "enter the marks:- 97\n",
            "Grade A\n"
          ]
        }
      ]
    },
    {
      "cell_type": "code",
      "source": [
        "# pass - break - continue"
      ],
      "metadata": {
        "id": "aXCs5_3rKZ6p"
      },
      "execution_count": 27,
      "outputs": []
    },
    {
      "cell_type": "code",
      "source": [
        "for i in range(5):\n",
        "  if i == 2:\n",
        "    pass"
      ],
      "metadata": {
        "id": "HYVNDxsLKrL0"
      },
      "execution_count": 28,
      "outputs": []
    },
    {
      "cell_type": "code",
      "source": [
        "for i in range(1,11):\n",
        "  if i == 5:\n",
        "    break\n",
        "  print(i)"
      ],
      "metadata": {
        "colab": {
          "base_uri": "https://localhost:8080/"
        },
        "id": "nkFnQVFYK49R",
        "outputId": "2e59ae59-b310-4f42-abdd-56f343203dfd"
      },
      "execution_count": 29,
      "outputs": [
        {
          "output_type": "stream",
          "name": "stdout",
          "text": [
            "1\n",
            "2\n",
            "3\n",
            "4\n"
          ]
        }
      ]
    },
    {
      "cell_type": "code",
      "source": [
        "for i in range(1,11):\n",
        "  if i == 5:\n",
        "    continue\n",
        "  print(i)"
      ],
      "metadata": {
        "colab": {
          "base_uri": "https://localhost:8080/"
        },
        "id": "PdIY09fNLMqx",
        "outputId": "9af8a02f-d620-47d4-ba87-ab84711a5342"
      },
      "execution_count": 30,
      "outputs": [
        {
          "output_type": "stream",
          "name": "stdout",
          "text": [
            "1\n",
            "2\n",
            "3\n",
            "4\n",
            "6\n",
            "7\n",
            "8\n",
            "9\n",
            "10\n"
          ]
        }
      ]
    },
    {
      "cell_type": "code",
      "source": [
        "# fabonacci series - 0 1 1 2 3 5 8 13\n",
        "# factorial = 4*3*2*1"
      ],
      "metadata": {
        "id": "EE-6uEi6LhVw"
      },
      "execution_count": 31,
      "outputs": []
    },
    {
      "cell_type": "code",
      "source": [],
      "metadata": {
        "id": "By48DQsCMiWW"
      },
      "execution_count": null,
      "outputs": []
    }
  ]
}