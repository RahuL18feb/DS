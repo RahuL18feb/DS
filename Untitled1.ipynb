{
  "nbformat": 4,
  "nbformat_minor": 0,
  "metadata": {
    "colab": {
      "provenance": []
    },
    "kernelspec": {
      "name": "python3",
      "display_name": "Python 3"
    },
    "language_info": {
      "name": "python"
    }
  },
  "cells": [
    {
      "cell_type": "markdown",
      "source": [
        "#tuple\n",
        " - ordered collection\n",
        "  -immutable\n",
        "  -tuple always in parenthesis"
      ],
      "metadata": {
        "id": "xTZT2fTJ5_CR"
      }
    },
    {
      "cell_type": "code",
      "execution_count": 1,
      "metadata": {
        "id": "b1iY2Ih859p-"
      },
      "outputs": [],
      "source": [
        "my_tuple = (10,20,30)"
      ]
    },
    {
      "cell_type": "code",
      "source": [
        "type(my_tuple)"
      ],
      "metadata": {
        "colab": {
          "base_uri": "https://localhost:8080/"
        },
        "id": "uP6gTywQ6XgE",
        "outputId": "9c7325f8-3775-47c8-9965-0da36c9d1e6f"
      },
      "execution_count": 2,
      "outputs": [
        {
          "output_type": "execute_result",
          "data": {
            "text/plain": [
              "tuple"
            ]
          },
          "metadata": {},
          "execution_count": 2
        }
      ]
    },
    {
      "cell_type": "code",
      "source": [
        "t2 = (10,20,30,20,10,20,30,30,20,20,20,10)"
      ],
      "metadata": {
        "id": "btxxCubb6beV"
      },
      "execution_count": 3,
      "outputs": []
    },
    {
      "cell_type": "code",
      "source": [
        "t2.count(20)"
      ],
      "metadata": {
        "colab": {
          "base_uri": "https://localhost:8080/"
        },
        "id": "uX3l-3aC6jSZ",
        "outputId": "2edcde20-6a95-404b-c678-e7808060d266"
      },
      "execution_count": 4,
      "outputs": [
        {
          "output_type": "execute_result",
          "data": {
            "text/plain": [
              "6"
            ]
          },
          "metadata": {},
          "execution_count": 4
        }
      ]
    },
    {
      "cell_type": "code",
      "source": [
        "t2.index(30) # its shows index position first occurance"
      ],
      "metadata": {
        "colab": {
          "base_uri": "https://localhost:8080/"
        },
        "id": "ocgv5tz66lfC",
        "outputId": "34f66723-4fd8-4ea9-bda8-9987ac089dcd"
      },
      "execution_count": 6,
      "outputs": [
        {
          "output_type": "execute_result",
          "data": {
            "text/plain": [
              "2"
            ]
          },
          "metadata": {},
          "execution_count": 6
        }
      ]
    },
    {
      "cell_type": "code",
      "source": [
        "#use cases - gps coordinates - long, latitude\n",
        "##enrollment no"
      ],
      "metadata": {
        "id": "HdVSY_Y76pOD"
      },
      "execution_count": 7,
      "outputs": []
    },
    {
      "cell_type": "markdown",
      "source": [
        "# set {} -\n",
        "- unordered - means you cannot access item by index\n",
        "- mutable - can be add, remove or change\n",
        "- duplicate values not allow"
      ],
      "metadata": {
        "id": "U4ZZ94BI7fuT"
      }
    },
    {
      "cell_type": "code",
      "source": [
        "s1 = {10,20,30,10,20,30,10,20,30,40,40,50,30}"
      ],
      "metadata": {
        "id": "nKSNGfPp7AjP"
      },
      "execution_count": 9,
      "outputs": []
    },
    {
      "cell_type": "code",
      "source": [
        "s1"
      ],
      "metadata": {
        "colab": {
          "base_uri": "https://localhost:8080/"
        },
        "id": "dibZK8f97aDj",
        "outputId": "e756bbaa-9056-47a4-f880-70d6577f4617"
      },
      "execution_count": 10,
      "outputs": [
        {
          "output_type": "execute_result",
          "data": {
            "text/plain": [
              "{10, 20, 30, 40, 50}"
            ]
          },
          "metadata": {},
          "execution_count": 10
        }
      ]
    },
    {
      "cell_type": "code",
      "source": [
        "s1.add(70)"
      ],
      "metadata": {
        "id": "tIkvj-Fd7qO8"
      },
      "execution_count": 11,
      "outputs": []
    },
    {
      "cell_type": "code",
      "source": [
        "s1"
      ],
      "metadata": {
        "colab": {
          "base_uri": "https://localhost:8080/"
        },
        "id": "GEE0w9Pp754_",
        "outputId": "c67031fa-b53b-4cc4-e1e9-43b369fc8a04"
      },
      "execution_count": 12,
      "outputs": [
        {
          "output_type": "execute_result",
          "data": {
            "text/plain": [
              "{10, 20, 30, 40, 50, 70}"
            ]
          },
          "metadata": {},
          "execution_count": 12
        }
      ]
    },
    {
      "cell_type": "code",
      "source": [
        "s1.remove(40)"
      ],
      "metadata": {
        "id": "tpAV77I076fr"
      },
      "execution_count": 14,
      "outputs": []
    },
    {
      "cell_type": "code",
      "source": [
        "s1"
      ],
      "metadata": {
        "colab": {
          "base_uri": "https://localhost:8080/"
        },
        "id": "T-Myx1DI7_az",
        "outputId": "16c14d97-dbc0-404c-e7de-7df924cf2308"
      },
      "execution_count": 15,
      "outputs": [
        {
          "output_type": "execute_result",
          "data": {
            "text/plain": [
              "{10, 20, 30, 50, 70}"
            ]
          },
          "metadata": {},
          "execution_count": 15
        }
      ]
    },
    {
      "cell_type": "code",
      "source": [
        "s1.remove(80)"
      ],
      "metadata": {
        "colab": {
          "base_uri": "https://localhost:8080/",
          "height": 141
        },
        "id": "t1sAYGRO8ICN",
        "outputId": "36fd766a-a0d1-4e74-b754-3101d7ee2816"
      },
      "execution_count": 16,
      "outputs": [
        {
          "output_type": "error",
          "ename": "KeyError",
          "evalue": "80",
          "traceback": [
            "\u001b[0;31m---------------------------------------------------------------------------\u001b[0m",
            "\u001b[0;31mKeyError\u001b[0m                                  Traceback (most recent call last)",
            "\u001b[0;32m<ipython-input-16-c39e48d27c58>\u001b[0m in \u001b[0;36m<cell line: 0>\u001b[0;34m()\u001b[0m\n\u001b[0;32m----> 1\u001b[0;31m \u001b[0ms1\u001b[0m\u001b[0;34m.\u001b[0m\u001b[0mremove\u001b[0m\u001b[0;34m(\u001b[0m\u001b[0;36m80\u001b[0m\u001b[0;34m)\u001b[0m\u001b[0;34m\u001b[0m\u001b[0;34m\u001b[0m\u001b[0m\n\u001b[0m",
            "\u001b[0;31mKeyError\u001b[0m: 80"
          ]
        }
      ]
    },
    {
      "cell_type": "code",
      "source": [
        "s1.discard(80)  #if 80 available in set than it will remove otherwise not, we dont get any error"
      ],
      "metadata": {
        "id": "i88Cqxc-8KYp"
      },
      "execution_count": 17,
      "outputs": []
    },
    {
      "cell_type": "code",
      "source": [
        "s1"
      ],
      "metadata": {
        "colab": {
          "base_uri": "https://localhost:8080/"
        },
        "id": "jFyrE2Vb8fbH",
        "outputId": "e3654496-ffc9-4e12-f8db-7bf55382162c"
      },
      "execution_count": 18,
      "outputs": [
        {
          "output_type": "execute_result",
          "data": {
            "text/plain": [
              "{10, 20, 30, 50, 70}"
            ]
          },
          "metadata": {},
          "execution_count": 18
        }
      ]
    },
    {
      "cell_type": "markdown",
      "source": [
        "# string in python"
      ],
      "metadata": {
        "id": "cPF7qPOx8hJd"
      }
    },
    {
      "cell_type": "code",
      "source": [
        "name = \"rahul , tushar sir\""
      ],
      "metadata": {
        "id": "Mfzx89Vq8f4H"
      },
      "execution_count": 21,
      "outputs": []
    },
    {
      "cell_type": "code",
      "source": [
        "name"
      ],
      "metadata": {
        "colab": {
          "base_uri": "https://localhost:8080/",
          "height": 35
        },
        "id": "VimuUD0E8rcs",
        "outputId": "a3d0098c-c74d-44d7-c939-a8a38fd00020"
      },
      "execution_count": 22,
      "outputs": [
        {
          "output_type": "execute_result",
          "data": {
            "text/plain": [
              "'rahul , tushar sir'"
            ],
            "application/vnd.google.colaboratory.intrinsic+json": {
              "type": "string"
            }
          },
          "metadata": {},
          "execution_count": 22
        }
      ]
    },
    {
      "cell_type": "code",
      "source": [
        "name.upper()"
      ],
      "metadata": {
        "colab": {
          "base_uri": "https://localhost:8080/",
          "height": 35
        },
        "id": "KP9vP5Qr8sWo",
        "outputId": "d510ef72-9c0e-4989-e29a-7cd56c2c59aa"
      },
      "execution_count": 23,
      "outputs": [
        {
          "output_type": "execute_result",
          "data": {
            "text/plain": [
              "'RAHUL , TUSHAR SIR'"
            ],
            "application/vnd.google.colaboratory.intrinsic+json": {
              "type": "string"
            }
          },
          "metadata": {},
          "execution_count": 23
        }
      ]
    },
    {
      "cell_type": "code",
      "source": [
        "name.lower()"
      ],
      "metadata": {
        "colab": {
          "base_uri": "https://localhost:8080/",
          "height": 35
        },
        "id": "UgMNxgMl80XJ",
        "outputId": "ca395f49-937e-4b8b-d362-34593316587a"
      },
      "execution_count": 24,
      "outputs": [
        {
          "output_type": "execute_result",
          "data": {
            "text/plain": [
              "'rahul , tushar sir'"
            ],
            "application/vnd.google.colaboratory.intrinsic+json": {
              "type": "string"
            }
          },
          "metadata": {},
          "execution_count": 24
        }
      ]
    },
    {
      "cell_type": "code",
      "source": [
        "name.capitalize()"
      ],
      "metadata": {
        "colab": {
          "base_uri": "https://localhost:8080/",
          "height": 35
        },
        "id": "aRM64XkI82QK",
        "outputId": "316f81fe-a5d2-4d08-c240-a5891ff34844"
      },
      "execution_count": 25,
      "outputs": [
        {
          "output_type": "execute_result",
          "data": {
            "text/plain": [
              "'Rahul , tushar sir'"
            ],
            "application/vnd.google.colaboratory.intrinsic+json": {
              "type": "string"
            }
          },
          "metadata": {},
          "execution_count": 25
        }
      ]
    },
    {
      "cell_type": "code",
      "source": [
        "name.title()"
      ],
      "metadata": {
        "colab": {
          "base_uri": "https://localhost:8080/",
          "height": 35
        },
        "id": "MgehUy-E89fy",
        "outputId": "a47f95d4-043b-44e4-a6c4-0f13210ef022"
      },
      "execution_count": 26,
      "outputs": [
        {
          "output_type": "execute_result",
          "data": {
            "text/plain": [
              "'Rahul , Tushar Sir'"
            ],
            "application/vnd.google.colaboratory.intrinsic+json": {
              "type": "string"
            }
          },
          "metadata": {},
          "execution_count": 26
        }
      ]
    },
    {
      "cell_type": "code",
      "source": [
        "\"hello\".find('l')"
      ],
      "metadata": {
        "colab": {
          "base_uri": "https://localhost:8080/"
        },
        "id": "tkn31st79ATa",
        "outputId": "5b1f45a2-d474-4687-bed6-447e52b81dd8"
      },
      "execution_count": 29,
      "outputs": [
        {
          "output_type": "execute_result",
          "data": {
            "text/plain": [
              "2"
            ]
          },
          "metadata": {},
          "execution_count": 29
        }
      ]
    },
    {
      "cell_type": "code",
      "source": [
        "name1 = \"   Rahul   \""
      ],
      "metadata": {
        "id": "AsFiQuKX9MqJ"
      },
      "execution_count": 30,
      "outputs": []
    },
    {
      "cell_type": "code",
      "source": [
        "name1.strip()"
      ],
      "metadata": {
        "colab": {
          "base_uri": "https://localhost:8080/",
          "height": 35
        },
        "id": "sTYRWOxo9i8V",
        "outputId": "61a84a36-a46f-4058-8d0c-c3967005cf53"
      },
      "execution_count": 31,
      "outputs": [
        {
          "output_type": "execute_result",
          "data": {
            "text/plain": [
              "'Rahul'"
            ],
            "application/vnd.google.colaboratory.intrinsic+json": {
              "type": "string"
            }
          },
          "metadata": {},
          "execution_count": 31
        }
      ]
    },
    {
      "cell_type": "code",
      "source": [
        "\"a, b, c, d\".split(\",\")"
      ],
      "metadata": {
        "colab": {
          "base_uri": "https://localhost:8080/"
        },
        "id": "5j8ryOM69k9M",
        "outputId": "2c6c2000-8d74-43d1-d394-fa9c800c95aa"
      },
      "execution_count": 32,
      "outputs": [
        {
          "output_type": "execute_result",
          "data": {
            "text/plain": [
              "['a', ' b', ' c', ' d']"
            ]
          },
          "metadata": {},
          "execution_count": 32
        }
      ]
    },
    {
      "cell_type": "markdown",
      "source": [
        "# Dictionary\n",
        "- unordered\n",
        "- mutable\n",
        "- collection of keys : values\n",
        "- {keys:values}"
      ],
      "metadata": {
        "id": "I1kXGFc895kC"
      }
    },
    {
      "cell_type": "code",
      "source": [
        "my_dict = {\n",
        "    \"name\" : \"Rahul\",\n",
        "    \"age\" : 33,\n",
        "    \"city\" : \"wardha\"\n",
        "}"
      ],
      "metadata": {
        "id": "myEEllDc9yo8"
      },
      "execution_count": 33,
      "outputs": []
    },
    {
      "cell_type": "code",
      "source": [
        "my_dict"
      ],
      "metadata": {
        "colab": {
          "base_uri": "https://localhost:8080/"
        },
        "id": "ZvB-Jkay-meo",
        "outputId": "c9ad16d3-89c9-46ce-f1eb-1b9246a43547"
      },
      "execution_count": 34,
      "outputs": [
        {
          "output_type": "execute_result",
          "data": {
            "text/plain": [
              "{'name': 'Rahul', 'age': 33, 'city': 'wardha'}"
            ]
          },
          "metadata": {},
          "execution_count": 34
        }
      ]
    },
    {
      "cell_type": "code",
      "source": [
        "my_dict[\"name\"]"
      ],
      "metadata": {
        "colab": {
          "base_uri": "https://localhost:8080/",
          "height": 35
        },
        "id": "grvm4XTU-qnX",
        "outputId": "4fb309b9-c317-461f-f2fb-5c43350713f9"
      },
      "execution_count": 35,
      "outputs": [
        {
          "output_type": "execute_result",
          "data": {
            "text/plain": [
              "'Rahul'"
            ],
            "application/vnd.google.colaboratory.intrinsic+json": {
              "type": "string"
            }
          },
          "metadata": {},
          "execution_count": 35
        }
      ]
    },
    {
      "cell_type": "code",
      "source": [
        "# paranthesis () - .method , function, tuple\n",
        "# square braces [] - list , access the element , indexing\n",
        "# { } curly braces - set, dict"
      ],
      "metadata": {
        "id": "kzShUdNV-15e"
      },
      "execution_count": 36,
      "outputs": []
    },
    {
      "cell_type": "code",
      "source": [
        "d = {\"a\":1 , \"b\" : 2}"
      ],
      "metadata": {
        "id": "5QFoprfn_cx1"
      },
      "execution_count": 37,
      "outputs": []
    },
    {
      "cell_type": "code",
      "source": [
        "d[\"a\"]"
      ],
      "metadata": {
        "colab": {
          "base_uri": "https://localhost:8080/"
        },
        "id": "wTxIMzd0_rim",
        "outputId": "e35dcab6-0c8b-4f9b-d2cb-c0aa32c3f673"
      },
      "execution_count": 38,
      "outputs": [
        {
          "output_type": "execute_result",
          "data": {
            "text/plain": [
              "1"
            ]
          },
          "metadata": {},
          "execution_count": 38
        }
      ]
    },
    {
      "cell_type": "code",
      "source": [
        "d.get(\"a\")"
      ],
      "metadata": {
        "colab": {
          "base_uri": "https://localhost:8080/"
        },
        "id": "nKRs7J7T_tMb",
        "outputId": "1b7cfc5d-14f2-4a2b-d556-18cbfe096bcf"
      },
      "execution_count": 39,
      "outputs": [
        {
          "output_type": "execute_result",
          "data": {
            "text/plain": [
              "1"
            ]
          },
          "metadata": {},
          "execution_count": 39
        }
      ]
    },
    {
      "cell_type": "code",
      "source": [
        "# FOR LOOP"
      ],
      "metadata": {
        "id": "26YersPS_vIl"
      },
      "execution_count": 40,
      "outputs": []
    },
    {
      "cell_type": "code",
      "source": [
        "fruits = [\"apple\" , \"banana\" , \"cherry\"]"
      ],
      "metadata": {
        "id": "OdQu8SIn_219"
      },
      "execution_count": 41,
      "outputs": []
    },
    {
      "cell_type": "code",
      "source": [
        "for i in fruits:\n",
        "  print(\"I like\", i)"
      ],
      "metadata": {
        "colab": {
          "base_uri": "https://localhost:8080/"
        },
        "id": "SD0jn0-ZALRv",
        "outputId": "849aec9c-0d3e-4152-b0f5-ec5a18e4f656"
      },
      "execution_count": 42,
      "outputs": [
        {
          "output_type": "stream",
          "name": "stdout",
          "text": [
            "I like apple\n",
            "I like banana\n",
            "I like cherry\n"
          ]
        }
      ]
    },
    {
      "cell_type": "code",
      "source": [
        "word = \"Python\""
      ],
      "metadata": {
        "id": "M_eNVJkJAfre"
      },
      "execution_count": 51,
      "outputs": []
    },
    {
      "cell_type": "code",
      "source": [
        "for i in word:\n",
        "  print(i)"
      ],
      "metadata": {
        "colab": {
          "base_uri": "https://localhost:8080/"
        },
        "id": "10NpLzTKBL2e",
        "outputId": "2c92d38d-57df-4d11-de71-60be6cff2a88"
      },
      "execution_count": 52,
      "outputs": [
        {
          "output_type": "stream",
          "name": "stdout",
          "text": [
            "P\n",
            "y\n",
            "t\n",
            "h\n",
            "o\n",
            "n\n"
          ]
        }
      ]
    },
    {
      "cell_type": "code",
      "source": [
        "for i in range(11):\n",
        "  print(i)"
      ],
      "metadata": {
        "colab": {
          "base_uri": "https://localhost:8080/"
        },
        "id": "589SVUyNBOvG",
        "outputId": "07341f7a-0e51-475f-876b-7fd8aa1dd689"
      },
      "execution_count": 46,
      "outputs": [
        {
          "output_type": "stream",
          "name": "stdout",
          "text": [
            "0\n",
            "1\n",
            "2\n",
            "3\n",
            "4\n",
            "5\n",
            "6\n",
            "7\n",
            "8\n",
            "9\n",
            "10\n"
          ]
        }
      ]
    },
    {
      "cell_type": "code",
      "source": [
        "for i in range(2,11,2):\n",
        "  print(i)"
      ],
      "metadata": {
        "colab": {
          "base_uri": "https://localhost:8080/"
        },
        "id": "S9PI1t8FBt3L",
        "outputId": "ade67b63-5bd4-4590-e10f-45245e743e01"
      },
      "execution_count": 48,
      "outputs": [
        {
          "output_type": "stream",
          "name": "stdout",
          "text": [
            "2\n",
            "4\n",
            "6\n",
            "8\n",
            "10\n"
          ]
        }
      ]
    },
    {
      "cell_type": "code",
      "source": [
        "# addition of 1 to 100"
      ],
      "metadata": {
        "id": "ncjstsYMCFWC"
      },
      "execution_count": 53,
      "outputs": []
    },
    {
      "cell_type": "code",
      "source": [
        "total = 0\n",
        "for i in range(1,101):\n",
        "  total = total + i\n",
        "  print(total)"
      ],
      "metadata": {
        "colab": {
          "base_uri": "https://localhost:8080/"
        },
        "id": "acPdgNn2CeFW",
        "outputId": "e534da76-3c77-41bb-aacf-7ed0abd94fb9"
      },
      "execution_count": 55,
      "outputs": [
        {
          "output_type": "stream",
          "name": "stdout",
          "text": [
            "1\n",
            "3\n",
            "6\n",
            "10\n",
            "15\n",
            "21\n",
            "28\n",
            "36\n",
            "45\n",
            "55\n",
            "66\n",
            "78\n",
            "91\n",
            "105\n",
            "120\n",
            "136\n",
            "153\n",
            "171\n",
            "190\n",
            "210\n",
            "231\n",
            "253\n",
            "276\n",
            "300\n",
            "325\n",
            "351\n",
            "378\n",
            "406\n",
            "435\n",
            "465\n",
            "496\n",
            "528\n",
            "561\n",
            "595\n",
            "630\n",
            "666\n",
            "703\n",
            "741\n",
            "780\n",
            "820\n",
            "861\n",
            "903\n",
            "946\n",
            "990\n",
            "1035\n",
            "1081\n",
            "1128\n",
            "1176\n",
            "1225\n",
            "1275\n",
            "1326\n",
            "1378\n",
            "1431\n",
            "1485\n",
            "1540\n",
            "1596\n",
            "1653\n",
            "1711\n",
            "1770\n",
            "1830\n",
            "1891\n",
            "1953\n",
            "2016\n",
            "2080\n",
            "2145\n",
            "2211\n",
            "2278\n",
            "2346\n",
            "2415\n",
            "2485\n",
            "2556\n",
            "2628\n",
            "2701\n",
            "2775\n",
            "2850\n",
            "2926\n",
            "3003\n",
            "3081\n",
            "3160\n",
            "3240\n",
            "3321\n",
            "3403\n",
            "3486\n",
            "3570\n",
            "3655\n",
            "3741\n",
            "3828\n",
            "3916\n",
            "4005\n",
            "4095\n",
            "4186\n",
            "4278\n",
            "4371\n",
            "4465\n",
            "4560\n",
            "4656\n",
            "4753\n",
            "4851\n",
            "4950\n",
            "5050\n"
          ]
        }
      ]
    },
    {
      "cell_type": "code",
      "source": [
        "total = 0\n",
        "for i in range(1,101):\n",
        "  total = total + i\n",
        "\n",
        "print(total)"
      ],
      "metadata": {
        "colab": {
          "base_uri": "https://localhost:8080/"
        },
        "id": "Eyln4p-BCzSz",
        "outputId": "8d2a16b6-7b9a-42da-b186-df08358e3924"
      },
      "execution_count": 56,
      "outputs": [
        {
          "output_type": "stream",
          "name": "stdout",
          "text": [
            "5050\n"
          ]
        }
      ]
    },
    {
      "cell_type": "markdown",
      "source": [
        "# nested for loop - loop into loop"
      ],
      "metadata": {
        "id": "ij4zO70JDfI-"
      }
    },
    {
      "cell_type": "code",
      "source": [
        "colors = [\"red\" , \"green\"]\n",
        "size = [\"s\", \"m\", \"l\"]"
      ],
      "metadata": {
        "id": "xboUahF0DaiG"
      },
      "execution_count": 57,
      "outputs": []
    },
    {
      "cell_type": "code",
      "source": [
        "for i in colors:\n",
        "  for j in size:\n",
        "\n",
        "    print(i , j)"
      ],
      "metadata": {
        "colab": {
          "base_uri": "https://localhost:8080/"
        },
        "id": "slXiKO7UDyU3",
        "outputId": "ef7bc5f2-b314-426d-a271-5218917cadc2"
      },
      "execution_count": 61,
      "outputs": [
        {
          "output_type": "stream",
          "name": "stdout",
          "text": [
            "red s\n",
            "red m\n",
            "red l\n",
            "green s\n",
            "green m\n",
            "green l\n"
          ]
        }
      ]
    },
    {
      "cell_type": "code",
      "source": [
        "for i in range(2,4):\n",
        "  print(\"Table for\", i)\n",
        "  for j in range(1,11):\n",
        "    print(f\"{i}*{j} = {i*j}\")"
      ],
      "metadata": {
        "colab": {
          "base_uri": "https://localhost:8080/"
        },
        "id": "6hFUr866EK3X",
        "outputId": "91e7f069-6f2b-4072-9ddc-ecb0d904abfc"
      },
      "execution_count": 62,
      "outputs": [
        {
          "output_type": "stream",
          "name": "stdout",
          "text": [
            "Table for 2\n",
            "2*1 = 2\n",
            "2*2 = 4\n",
            "2*3 = 6\n",
            "2*4 = 8\n",
            "2*5 = 10\n",
            "2*6 = 12\n",
            "2*7 = 14\n",
            "2*8 = 16\n",
            "2*9 = 18\n",
            "2*10 = 20\n",
            "Table for 3\n",
            "3*1 = 3\n",
            "3*2 = 6\n",
            "3*3 = 9\n",
            "3*4 = 12\n",
            "3*5 = 15\n",
            "3*6 = 18\n",
            "3*7 = 21\n",
            "3*8 = 24\n",
            "3*9 = 27\n",
            "3*10 = 30\n"
          ]
        }
      ]
    },
    {
      "cell_type": "code",
      "source": [],
      "metadata": {
        "id": "YsvnZ-kwFEYl"
      },
      "execution_count": null,
      "outputs": []
    }
  ]
}