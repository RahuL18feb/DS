{
  "nbformat": 4,
  "nbformat_minor": 0,
  "metadata": {
    "colab": {
      "provenance": []
    },
    "kernelspec": {
      "name": "python3",
      "display_name": "Python 3"
    },
    "language_info": {
      "name": "python"
    }
  },
  "cells": [
    {
      "cell_type": "markdown",
      "source": [
        "- Data Types\n",
        "- operators\n",
        "- list\n",
        "- tuple\n",
        "- set\n",
        "- dict\n",
        "- if else\n",
        "- nested\n",
        "- for & while\n",
        "- function\n",
        "- annoymous\n",
        "- list comprehension\n"
      ],
      "metadata": {
        "id": "_64115QzZFjP"
      }
    },
    {
      "cell_type": "code",
      "execution_count": 1,
      "metadata": {
        "id": "1ai0Nvt3O-AU"
      },
      "outputs": [],
      "source": [
        "def greet(name):\n",
        "  print(f\"Hello {name}, we have offer this month for you...\")"
      ]
    },
    {
      "cell_type": "code",
      "source": [
        "greet(\"Ram\")"
      ],
      "metadata": {
        "colab": {
          "base_uri": "https://localhost:8080/"
        },
        "id": "uYAu-x_NPjD0",
        "outputId": "58bc9914-e252-4478-f993-b1ab2d18e241"
      },
      "execution_count": 2,
      "outputs": [
        {
          "output_type": "stream",
          "name": "stdout",
          "text": [
            "Hello Ram, we have offer this month for you...\n"
          ]
        }
      ]
    },
    {
      "cell_type": "code",
      "source": [
        "greet(\"Vishnu\")"
      ],
      "metadata": {
        "colab": {
          "base_uri": "https://localhost:8080/"
        },
        "id": "FBSb7hLIPnxb",
        "outputId": "a9238061-2a00-441c-9f0c-a6e631fe8046"
      },
      "execution_count": 3,
      "outputs": [
        {
          "output_type": "stream",
          "name": "stdout",
          "text": [
            "Hello Vishnu, we have offer this month for you...\n"
          ]
        }
      ]
    },
    {
      "cell_type": "code",
      "source": [
        "def greet(name = \"guest\"):\n",
        "  print(f\"Hello {name}, we have offer this month for you...\")"
      ],
      "metadata": {
        "id": "-tlUwTklPqwH"
      },
      "execution_count": 4,
      "outputs": []
    },
    {
      "cell_type": "code",
      "source": [
        "greet(\"krish\")"
      ],
      "metadata": {
        "colab": {
          "base_uri": "https://localhost:8080/"
        },
        "id": "gJh1nQ7EP6U8",
        "outputId": "f8e272f6-0098-4aa9-d5a4-a9dd9ccec61d"
      },
      "execution_count": 5,
      "outputs": [
        {
          "output_type": "stream",
          "name": "stdout",
          "text": [
            "Hello krish, we have offer this month for you...\n"
          ]
        }
      ]
    },
    {
      "cell_type": "code",
      "source": [
        "greet()"
      ],
      "metadata": {
        "colab": {
          "base_uri": "https://localhost:8080/"
        },
        "id": "RvVwcpWgP-Bn",
        "outputId": "72945223-f495-4c3d-cb94-ec5c6c5a6435"
      },
      "execution_count": 6,
      "outputs": [
        {
          "output_type": "stream",
          "name": "stdout",
          "text": [
            "Hello guest, we have offer this month for you...\n"
          ]
        }
      ]
    },
    {
      "cell_type": "code",
      "source": [
        "# addition"
      ],
      "metadata": {
        "id": "vxPxDpLQQASB"
      },
      "execution_count": 7,
      "outputs": []
    },
    {
      "cell_type": "code",
      "source": [
        "a=10\n",
        "b=20\n",
        "a+b"
      ],
      "metadata": {
        "colab": {
          "base_uri": "https://localhost:8080/"
        },
        "id": "H8m7-4_RQUbS",
        "outputId": "1242f65a-b3ee-4b43-e064-ddba33c065b2"
      },
      "execution_count": 8,
      "outputs": [
        {
          "output_type": "execute_result",
          "data": {
            "text/plain": [
              "30"
            ]
          },
          "metadata": {},
          "execution_count": 8
        }
      ]
    },
    {
      "cell_type": "code",
      "source": [
        "def add(a,b):\n",
        "  return a+b"
      ],
      "metadata": {
        "id": "_vQbX-tcQhAb"
      },
      "execution_count": 9,
      "outputs": []
    },
    {
      "cell_type": "code",
      "source": [
        "add(45,9)"
      ],
      "metadata": {
        "colab": {
          "base_uri": "https://localhost:8080/"
        },
        "id": "aErnGJ2BQm97",
        "outputId": "e3d15309-406d-4636-bbd0-01bff64cb889"
      },
      "execution_count": 10,
      "outputs": [
        {
          "output_type": "execute_result",
          "data": {
            "text/plain": [
              "54"
            ]
          },
          "metadata": {},
          "execution_count": 10
        }
      ]
    },
    {
      "cell_type": "code",
      "source": [
        "def sq_list(num):\n",
        "  return [i ** 2 for i in num]"
      ],
      "metadata": {
        "id": "TMigo2iOQo7f"
      },
      "execution_count": 11,
      "outputs": []
    },
    {
      "cell_type": "code",
      "source": [
        "sq_list([1,2,3,5])"
      ],
      "metadata": {
        "colab": {
          "base_uri": "https://localhost:8080/"
        },
        "id": "9U4UvtwrRZk4",
        "outputId": "55d77ed2-a5bc-4d3c-baab-90a34f1617c8"
      },
      "execution_count": 12,
      "outputs": [
        {
          "output_type": "execute_result",
          "data": {
            "text/plain": [
              "[1, 4, 9, 25]"
            ]
          },
          "metadata": {},
          "execution_count": 12
        }
      ]
    },
    {
      "cell_type": "markdown",
      "source": [
        "# annonymous function  - function without name"
      ],
      "metadata": {
        "id": "ufpyeGCUSTLz"
      }
    },
    {
      "cell_type": "code",
      "source": [
        "# lamba # map # filter\n",
        "# lambda argument : expression"
      ],
      "metadata": {
        "id": "jzRfFWioRduq"
      },
      "execution_count": 16,
      "outputs": []
    },
    {
      "cell_type": "code",
      "source": [
        "sq = lambda x : x**2"
      ],
      "metadata": {
        "id": "uN93Dk4ORr88"
      },
      "execution_count": 17,
      "outputs": []
    },
    {
      "cell_type": "code",
      "source": [
        "sq(7)"
      ],
      "metadata": {
        "colab": {
          "base_uri": "https://localhost:8080/"
        },
        "id": "dguSsOPBSvL3",
        "outputId": "029af0ac-472c-409d-91f2-242ae216e819"
      },
      "execution_count": 18,
      "outputs": [
        {
          "output_type": "execute_result",
          "data": {
            "text/plain": [
              "49"
            ]
          },
          "metadata": {},
          "execution_count": 18
        }
      ]
    },
    {
      "cell_type": "code",
      "source": [
        "# map applies lambda function to each item"
      ],
      "metadata": {
        "id": "pw-r0qhMSwcY"
      },
      "execution_count": 19,
      "outputs": []
    },
    {
      "cell_type": "code",
      "source": [
        "num = [1,2,3,4,5]\n",
        "\n",
        "sq = list(map(lambda x : x**2, num))"
      ],
      "metadata": {
        "id": "v1mOoD6vTJCP"
      },
      "execution_count": 20,
      "outputs": []
    },
    {
      "cell_type": "code",
      "source": [
        "sq"
      ],
      "metadata": {
        "colab": {
          "base_uri": "https://localhost:8080/"
        },
        "id": "MAbe1nKtTlfS",
        "outputId": "956ec56b-481b-4d82-87da-a11c9ab0d10e"
      },
      "execution_count": 21,
      "outputs": [
        {
          "output_type": "execute_result",
          "data": {
            "text/plain": [
              "[1, 4, 9, 16, 25]"
            ]
          },
          "metadata": {},
          "execution_count": 21
        }
      ]
    },
    {
      "cell_type": "code",
      "source": [
        "# filter"
      ],
      "metadata": {
        "id": "fZ3nLPT_TmUS"
      },
      "execution_count": 22,
      "outputs": []
    },
    {
      "cell_type": "code",
      "source": [
        "nums = [1,2,3,4,5,6,7,9]\n",
        "even = list(filter(lambda x : x%2!=0 , nums))\n"
      ],
      "metadata": {
        "id": "YzH4EvJIT7yR"
      },
      "execution_count": 29,
      "outputs": []
    },
    {
      "cell_type": "code",
      "source": [
        "even"
      ],
      "metadata": {
        "colab": {
          "base_uri": "https://localhost:8080/"
        },
        "id": "XmuQ6xVBUW_O",
        "outputId": "f9a59df1-2ee8-4aeb-ff3d-1f6f35223bea"
      },
      "execution_count": 30,
      "outputs": [
        {
          "output_type": "execute_result",
          "data": {
            "text/plain": [
              "[1, 3, 5, 7, 9]"
            ]
          },
          "metadata": {},
          "execution_count": 30
        }
      ]
    },
    {
      "cell_type": "markdown",
      "source": [
        "# list comperhension"
      ],
      "metadata": {
        "id": "TuTxLEOwVQoB"
      }
    },
    {
      "cell_type": "code",
      "source": [
        "sq = []\n",
        "for i in range(6):\n",
        "  sq.append(i**2)"
      ],
      "metadata": {
        "id": "t8SymPrDUX1M"
      },
      "execution_count": 31,
      "outputs": []
    },
    {
      "cell_type": "code",
      "source": [
        "sq"
      ],
      "metadata": {
        "colab": {
          "base_uri": "https://localhost:8080/"
        },
        "id": "8KZ5w4grV6FP",
        "outputId": "fb477fa3-bd0a-4a46-e06f-739621705aca"
      },
      "execution_count": 32,
      "outputs": [
        {
          "output_type": "execute_result",
          "data": {
            "text/plain": [
              "[0, 1, 4, 9, 16, 25]"
            ]
          },
          "metadata": {},
          "execution_count": 32
        }
      ]
    },
    {
      "cell_type": "code",
      "source": [
        "sq = [x ** 2 for x in range(6)]"
      ],
      "metadata": {
        "id": "nPHrXluqV6uQ"
      },
      "execution_count": 33,
      "outputs": []
    },
    {
      "cell_type": "code",
      "source": [
        "sq"
      ],
      "metadata": {
        "colab": {
          "base_uri": "https://localhost:8080/"
        },
        "id": "UnVhky06WTcX",
        "outputId": "2a664243-faf5-413b-9850-16eaf8b63c0f"
      },
      "execution_count": 34,
      "outputs": [
        {
          "output_type": "execute_result",
          "data": {
            "text/plain": [
              "[0, 1, 4, 9, 16, 25]"
            ]
          },
          "metadata": {},
          "execution_count": 34
        }
      ]
    },
    {
      "cell_type": "code",
      "source": [
        "#even"
      ],
      "metadata": {
        "id": "k3nQuJsVWXim"
      },
      "execution_count": 35,
      "outputs": []
    },
    {
      "cell_type": "code",
      "source": [
        "even = []\n",
        "for x in range(10):\n",
        "  if x%2 ==0:\n",
        "    even.append(x)"
      ],
      "metadata": {
        "id": "eyZ0h-ySWeiS"
      },
      "execution_count": 36,
      "outputs": []
    },
    {
      "cell_type": "code",
      "source": [
        "even"
      ],
      "metadata": {
        "colab": {
          "base_uri": "https://localhost:8080/"
        },
        "id": "LkqbP_txWwGb",
        "outputId": "838cafdc-9819-47e2-a4a7-7c40149e5337"
      },
      "execution_count": 37,
      "outputs": [
        {
          "output_type": "execute_result",
          "data": {
            "text/plain": [
              "[0, 2, 4, 6, 8]"
            ]
          },
          "metadata": {},
          "execution_count": 37
        }
      ]
    },
    {
      "cell_type": "code",
      "source": [
        "even1 = [x for x in range(10) if x%2==0]"
      ],
      "metadata": {
        "id": "F33-6ZacWwwB"
      },
      "execution_count": 38,
      "outputs": []
    },
    {
      "cell_type": "code",
      "source": [
        "even1"
      ],
      "metadata": {
        "colab": {
          "base_uri": "https://localhost:8080/"
        },
        "id": "MedZj0VgXdHe",
        "outputId": "6290f1b5-66fd-448d-b76f-c6873e09cfbb"
      },
      "execution_count": 39,
      "outputs": [
        {
          "output_type": "execute_result",
          "data": {
            "text/plain": [
              "[0, 2, 4, 6, 8]"
            ]
          },
          "metadata": {},
          "execution_count": 39
        }
      ]
    },
    {
      "cell_type": "code",
      "source": [
        "words = [\"tushar\", \"rahul\", \"shubham\"]\n",
        "upper_word = []\n",
        "for i in words:\n",
        "  upper_word.append(i.upper())"
      ],
      "metadata": {
        "id": "xkMd6SqoXeUr"
      },
      "execution_count": 42,
      "outputs": []
    },
    {
      "cell_type": "code",
      "source": [
        "upper_word"
      ],
      "metadata": {
        "colab": {
          "base_uri": "https://localhost:8080/"
        },
        "id": "5vNlNTaIYdkO",
        "outputId": "de723888-9013-415f-8979-42ef808267c5"
      },
      "execution_count": 43,
      "outputs": [
        {
          "output_type": "execute_result",
          "data": {
            "text/plain": [
              "['TUSHAR', 'RAHUL', 'SHUBHAM']"
            ]
          },
          "metadata": {},
          "execution_count": 43
        }
      ]
    },
    {
      "cell_type": "code",
      "source": [
        "upper = [i.upper() for i in words]"
      ],
      "metadata": {
        "id": "ZcHW6ZO7YoHZ"
      },
      "execution_count": 44,
      "outputs": []
    },
    {
      "cell_type": "code",
      "source": [
        "upper"
      ],
      "metadata": {
        "colab": {
          "base_uri": "https://localhost:8080/"
        },
        "id": "htirkGJ0Y1mw",
        "outputId": "17e763b2-1a2f-4020-b68f-d45e081fc630"
      },
      "execution_count": 45,
      "outputs": [
        {
          "output_type": "execute_result",
          "data": {
            "text/plain": [
              "['TUSHAR', 'RAHUL', 'SHUBHAM']"
            ]
          },
          "metadata": {},
          "execution_count": 45
        }
      ]
    },
    {
      "cell_type": "code",
      "source": [],
      "metadata": {
        "id": "gFt33F0_Y4gH"
      },
      "execution_count": null,
      "outputs": []
    }
  ]
}